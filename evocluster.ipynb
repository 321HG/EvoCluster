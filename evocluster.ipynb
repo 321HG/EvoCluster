{
  "nbformat": 4,
  "nbformat_minor": 0,
  "metadata": {
    "colab": {
      "name": "evocluster.ipynb",
      "provenance": [],
      "collapsed_sections": [],
      "include_colab_link": true
    },
    "kernelspec": {
      "name": "python3",
      "display_name": "Python 3"
    }
  },
  "cells": [
    {
      "cell_type": "markdown",
      "metadata": {
        "id": "view-in-github",
        "colab_type": "text"
      },
      "source": [
        "<a href=\"https://colab.research.google.com/github/RaneemQaddoura/EvoCluster/blob/master/evocluster.ipynb\" target=\"_parent\"><img src=\"https://colab.research.google.com/assets/colab-badge.svg\" alt=\"Open In Colab\"/></a>"
      ]
    },
    {
      "cell_type": "markdown",
      "metadata": {
        "id": "IiNG95DSmRmt",
        "colab_type": "text"
      },
      "source": [
        "<h1>EvoCluster</h1>\n",
        "An Open-Source Nature-Inspired Optimization Clustering Framework in Python"
      ]
    },
    {
      "cell_type": "markdown",
      "metadata": {
        "id": "hKzyadcdm6yw",
        "colab_type": "text"
      },
      "source": [
        "EvoCluster is an open source and cross-platform framework implemented in Python which includes the most well-known and recent nature-inspired metaheuristic  optimizers  that  are  customized  to  perform  partitional  clustering tasks.  \n",
        "\n",
        "The  goal  of  this  framework  is  to  provide  a  user-friendly  and  customizable implementation of the metaheuristic based clustering algorithms which can be utilized by experienced and non-experienced users for different applications.\n",
        "\n",
        "The framework can also be used by researchers who can benefit from the implementation of the metaheuristic optimizers for their research studies. \n",
        "\n",
        "EvoCluster can be extended by designing other optimizers, including more objective func-tions, adding other evaluation measures, and using more data sets. \n",
        "\n",
        "The current implementation  of  the  framework  includes  ten  metaheristic  optimizers,  thirtydatasets,  five  objective  functions,  and  twelve  evaluation  measures.  "
      ]
    },
    {
      "cell_type": "markdown",
      "metadata": {
        "id": "2zQnPqDUujil",
        "colab_type": "text"
      },
      "source": [
        "The full list of implemented optimizers is available here https://github.com/7ossam81/EvoloPy/wiki/List-of-optimizers"
      ]
    },
    {
      "cell_type": "markdown",
      "metadata": {
        "id": "ehxW3t0puwpm",
        "colab_type": "text"
      },
      "source": [
        "<h2>Features</h2>"
      ]
    },
    {
      "cell_type": "markdown",
      "metadata": {
        "id": "TufeO-Rturq8",
        "colab_type": "text"
      },
      "source": [
        "*   Ten nature-inspired metaheuristic optimizers are implemented.\n",
        "*   The implimentation uses the fast array manipulation using [NumPy] (http://www.numpy.org/).\n",
        "*   Matrix support using [SciPy's] (https://www.scipy.org/) package.\n",
        "*   More optimizers are comming soon"
      ]
    },
    {
      "cell_type": "markdown",
      "metadata": {
        "id": "oG2TRdx-vf8m",
        "colab_type": "text"
      },
      "source": [
        "<h2>Installation</h2>"
      ]
    },
    {
      "cell_type": "markdown",
      "metadata": {
        "id": "_XpMUOZNvi9H",
        "colab_type": "text"
      },
      "source": [
        "Python 3.xx is required."
      ]
    },
    {
      "cell_type": "markdown",
      "metadata": {
        "id": "f_PVAZC6v7px",
        "colab_type": "text"
      },
      "source": [
        "<h2>GitHub</h2>"
      ]
    },
    {
      "cell_type": "markdown",
      "metadata": {
        "id": "aW_66ovkv2ev",
        "colab_type": "text"
      },
      "source": [
        "Clone the Git repository from GitHub:\n",
        "git clone https://github.com/RaneemQaddoura/EvoCluster.git"
      ]
    },
    {
      "cell_type": "code",
      "metadata": {
        "id": "QgrmE2wEyC_X",
        "colab_type": "code",
        "colab": {}
      },
      "source": [
        "!git clone https://github.com/RaneemQaddoura/EvoCluster.git"
      ],
      "execution_count": 0,
      "outputs": []
    },
    {
      "cell_type": "code",
      "metadata": {
        "id": "_yVUbtjcyiZR",
        "colab_type": "code",
        "colab": {}
      },
      "source": [
        "# Change working directory\n",
        "import os\n",
        "os.chdir(\"EvoCluster/\")"
      ],
      "execution_count": 0,
      "outputs": []
    },
    {
      "cell_type": "markdown",
      "metadata": {
        "id": "S4j-t-nXxaM7",
        "colab_type": "text"
      },
      "source": [
        "<h2>Install Packages</h2>"
      ]
    },
    {
      "cell_type": "code",
      "metadata": {
        "id": "-mG8vIuIW1n8",
        "colab_type": "code",
        "colab": {}
      },
      "source": [
        "#Install NumPy, SciPy, sklearn, pandas and matplotlib\n",
        "!pip install -r requirements.txt"
      ],
      "execution_count": 0,
      "outputs": []
    },
    {
      "cell_type": "markdown",
      "metadata": {
        "id": "fEon-wGyZuq4",
        "colab_type": "text"
      },
      "source": [
        "<h2>User Preferences</h2>"
      ]
    },
    {
      "cell_type": "code",
      "metadata": {
        "id": "cFF9ioDfyppV",
        "colab_type": "code",
        "colab": {}
      },
      "source": [
        "# Select optimizers\n",
        "# \"SSA\",\"PSO\",\"GA\",\"BAT\",\"FFA\",\"GWO\",\"WOA\",\"MVO\",\"MFO\",\"CS\"\n",
        "optimizer=[\"SSA\",\"PSO\",\"GA\",\"GWO\"]"
      ],
      "execution_count": 0,
      "outputs": []
    },
    {
      "cell_type": "code",
      "metadata": {
        "id": "SuWo96bB6ohe",
        "colab_type": "code",
        "colab": {}
      },
      "source": [
        "# Select objective function\n",
        "# \"SSE\",\"TWCV\",\"SC\",\"DB\",\"DI\"\n",
        "objectivefunc=[\"SSE\",\"TWCV\"] "
      ],
      "execution_count": 0,
      "outputs": []
    },
    {
      "cell_type": "code",
      "metadata": {
        "id": "DQpzhArU65Px",
        "colab_type": "code",
        "colab": {}
      },
      "source": [
        "# Select data sets\n",
        "#\"aggregation\",\"aniso\",\"appendicitis\",\"balance\",\"banknote\",\"blobs\",\"Blood\",\"circles\",\"diagnosis_II\",\"ecoli\",\"flame\",\"glass\",\"heart\",\"ionosphere\",\"iris\",\"iris2D\",\"jain\",\"liver\",\"moons\",\"mouse\",\"pathbased\",\"seeds\",\"smiley\",\"sonar\",\"varied\",\"vary-density\",\"vertebral2\",\"vertebral3\",\"wdbc\",\"wine\"\n",
        "dataset_List = [\"iris\",\"aggregation\"]"
      ],
      "execution_count": 0,
      "outputs": []
    },
    {
      "cell_type": "code",
      "metadata": {
        "id": "CQyWvdS3Ipgt",
        "colab_type": "code",
        "colab": {}
      },
      "source": [
        "# Select number of repetitions for each experiment. \n",
        "# To obtain meaningful statistical results, usually 30 independent runs are executed for each algorithm.\n",
        "NumOfRuns=3"
      ],
      "execution_count": 0,
      "outputs": []
    },
    {
      "cell_type": "code",
      "metadata": {
        "id": "2djrIRh26sKB",
        "colab_type": "code",
        "colab": {}
      },
      "source": [
        "# Select general parameters for all optimizers (population size, number of iterations) ....\n",
        "params = {'PopulationSize' : 50, 'Iterations' : 100}"
      ],
      "execution_count": 0,
      "outputs": []
    },
    {
      "cell_type": "code",
      "metadata": {
        "id": "aJb075Np62GM",
        "colab_type": "code",
        "colab": {}
      },
      "source": [
        "#Export results?\n",
        "export_flags = {'Export_avg':True, 'Export_details':True, 'Export_details_labels':True, \n",
        "'Export_convergence':True, 'Export_boxplot':True}"
      ],
      "execution_count": 0,
      "outputs": []
    },
    {
      "cell_type": "markdown",
      "metadata": {
        "id": "KAgXf1QkZD7X",
        "colab_type": "text"
      },
      "source": [
        "<h2>Run Framework</h2>"
      ]
    },
    {
      "cell_type": "code",
      "metadata": {
        "id": "APzDcxiwI8A2",
        "colab_type": "code",
        "colab": {}
      },
      "source": [
        "# Run EvoCluster\n",
        "from optimizer_run import run\n",
        "run(optimizer, objectivefunc, dataset_List, NumOfRuns, params, export_flags)"
      ],
      "execution_count": 0,
      "outputs": []
    }
  ]
}